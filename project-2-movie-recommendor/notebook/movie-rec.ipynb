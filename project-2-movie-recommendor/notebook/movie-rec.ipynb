{
 "cells": [
  {
   "cell_type": "code",
   "execution_count": 1,
   "metadata": {},
   "outputs": [
    {
     "data": {
      "text/plain": [
       "((4803, 4), (4803, 20))"
      ]
     },
     "execution_count": 1,
     "metadata": {},
     "output_type": "execute_result"
    }
   ],
   "source": [
    "import pandas as pd\n",
    "\n",
    "# loading datasets\n",
    "df_cred = pd.read_csv(\"tmdb_5000_credits.csv\")\n",
    "df_mov = pd.read_csv(\"tmdb_5000_movies.csv\")\n",
    "\n",
    "# check the size of the datasets\n",
    "df_cred.shape, df_mov.shape"
   ]
  },
  {
   "cell_type": "code",
   "execution_count": 2,
   "metadata": {},
   "outputs": [
    {
     "data": {
      "text/plain": [
       "0"
      ]
     },
     "execution_count": 2,
     "metadata": {},
     "output_type": "execute_result"
    }
   ],
   "source": [
    "'''\n",
    "to verify the consistency and synchronocity of values before merging the 2 \n",
    "Dataframes together.\n",
    "'''\n",
    "df_cred = df_cred.iloc[:2500,:]\n",
    "df_mov = df_mov.iloc[:2500, :]\n",
    "(df_cred.movie_id != df_mov.id).any().sum()"
   ]
  },
  {
   "cell_type": "code",
   "execution_count": 3,
   "metadata": {},
   "outputs": [
    {
     "name": "stdout",
     "output_type": "stream",
     "text": [
      "<class 'pandas.core.frame.DataFrame'>\n",
      "RangeIndex: 2500 entries, 0 to 2499\n",
      "Data columns (total 23 columns):\n",
      " #   Column                Non-Null Count  Dtype  \n",
      "---  ------                --------------  -----  \n",
      " 0   id                    2500 non-null   int64  \n",
      " 1   title_x               2500 non-null   object \n",
      " 2   cast                  2500 non-null   object \n",
      " 3   crew                  2500 non-null   object \n",
      " 4   budget                2500 non-null   int64  \n",
      " 5   genres                2500 non-null   object \n",
      " 6   homepage              1027 non-null   object \n",
      " 7   keywords              2500 non-null   object \n",
      " 8   original_language     2500 non-null   object \n",
      " 9   original_title        2500 non-null   object \n",
      " 10  overview              2500 non-null   object \n",
      " 11  popularity            2500 non-null   float64\n",
      " 12  production_companies  2500 non-null   object \n",
      " 13  production_countries  2500 non-null   object \n",
      " 14  release_date          2500 non-null   object \n",
      " 15  revenue               2500 non-null   int64  \n",
      " 16  runtime               2500 non-null   float64\n",
      " 17  spoken_languages      2500 non-null   object \n",
      " 18  status                2500 non-null   object \n",
      " 19  tagline               2307 non-null   object \n",
      " 20  title_y               2500 non-null   object \n",
      " 21  vote_average          2500 non-null   float64\n",
      " 22  vote_count            2500 non-null   int64  \n",
      "dtypes: float64(3), int64(4), object(16)\n",
      "memory usage: 449.3+ KB\n"
     ]
    }
   ],
   "source": [
    "# merging and renaming the columns as follows\n",
    "# rename column name\n",
    "df_cred.rename(columns = {'movie_id':'id'}, inplace = True)\n",
    "\n",
    "# merge the 2 dataframes and store in df\n",
    "df = df_cred.merge(df_mov, on = 'id')\n",
    "df.info()"
   ]
  },
  {
   "cell_type": "code",
   "execution_count": 4,
   "metadata": {},
   "outputs": [
    {
     "name": "stdout",
     "output_type": "stream",
     "text": [
      "<class 'pandas.core.frame.DataFrame'>\n",
      "RangeIndex: 2500 entries, 0 to 2499\n",
      "Data columns (total 6 columns):\n",
      " #   Column    Non-Null Count  Dtype \n",
      "---  ------    --------------  ----- \n",
      " 0   id        2500 non-null   int64 \n",
      " 1   title_x   2500 non-null   object\n",
      " 2   genres    2500 non-null   object\n",
      " 3   overview  2500 non-null   object\n",
      " 4   cast      2500 non-null   object\n",
      " 5   crew      2500 non-null   object\n",
      "dtypes: int64(1), object(5)\n",
      "memory usage: 117.3+ KB\n"
     ]
    }
   ],
   "source": [
    "''' \n",
    "Data CLeaning: \n",
    "generating a comprehensive corpus of keywords that encapsulate the essence of\n",
    "each movie. it is done by eliminating unwanted and null columns\n",
    "'''\n",
    "# drop null overviews\n",
    "df.dropna(subset = ['overview'], inplace = True)\n",
    "\n",
    "# filter out the target columns\n",
    "df = df[['id', 'title_x', 'genres', 'overview', 'cast', 'crew']]\n",
    "df.info()"
   ]
  },
  {
   "cell_type": "code",
   "execution_count": 5,
   "metadata": {},
   "outputs": [
    {
     "data": {
      "text/html": [
       "<div>\n",
       "<style scoped>\n",
       "    .dataframe tbody tr th:only-of-type {\n",
       "        vertical-align: middle;\n",
       "    }\n",
       "\n",
       "    .dataframe tbody tr th {\n",
       "        vertical-align: top;\n",
       "    }\n",
       "\n",
       "    .dataframe thead th {\n",
       "        text-align: right;\n",
       "    }\n",
       "</style>\n",
       "<table border=\"1\" class=\"dataframe\">\n",
       "  <thead>\n",
       "    <tr style=\"text-align: right;\">\n",
       "      <th></th>\n",
       "      <th>id</th>\n",
       "      <th>title_x</th>\n",
       "      <th>genres</th>\n",
       "      <th>overview</th>\n",
       "      <th>cast</th>\n",
       "      <th>crew</th>\n",
       "    </tr>\n",
       "  </thead>\n",
       "  <tbody>\n",
       "    <tr>\n",
       "      <th>0</th>\n",
       "      <td>19995</td>\n",
       "      <td>Avatar</td>\n",
       "      <td>[{\"id\": 28, \"name\": \"Action\"}, {\"id\": 12, \"nam...</td>\n",
       "      <td>In the 22nd century, a paraplegic Marine is di...</td>\n",
       "      <td>[{\"cast_id\": 242, \"character\": \"Jake Sully\", \"...</td>\n",
       "      <td>[{\"credit_id\": \"52fe48009251416c750aca23\", \"de...</td>\n",
       "    </tr>\n",
       "    <tr>\n",
       "      <th>1</th>\n",
       "      <td>285</td>\n",
       "      <td>Pirates of the Caribbean: At World's End</td>\n",
       "      <td>[{\"id\": 12, \"name\": \"Adventure\"}, {\"id\": 14, \"...</td>\n",
       "      <td>Captain Barbossa, long believed to be dead, ha...</td>\n",
       "      <td>[{\"cast_id\": 4, \"character\": \"Captain Jack Spa...</td>\n",
       "      <td>[{\"credit_id\": \"52fe4232c3a36847f800b579\", \"de...</td>\n",
       "    </tr>\n",
       "    <tr>\n",
       "      <th>2</th>\n",
       "      <td>206647</td>\n",
       "      <td>Spectre</td>\n",
       "      <td>[{\"id\": 28, \"name\": \"Action\"}, {\"id\": 12, \"nam...</td>\n",
       "      <td>A cryptic message from Bond’s past sends him o...</td>\n",
       "      <td>[{\"cast_id\": 1, \"character\": \"James Bond\", \"cr...</td>\n",
       "      <td>[{\"credit_id\": \"54805967c3a36829b5002c41\", \"de...</td>\n",
       "    </tr>\n",
       "    <tr>\n",
       "      <th>3</th>\n",
       "      <td>49026</td>\n",
       "      <td>The Dark Knight Rises</td>\n",
       "      <td>[{\"id\": 28, \"name\": \"Action\"}, {\"id\": 80, \"nam...</td>\n",
       "      <td>Following the death of District Attorney Harve...</td>\n",
       "      <td>[{\"cast_id\": 2, \"character\": \"Bruce Wayne / Ba...</td>\n",
       "      <td>[{\"credit_id\": \"52fe4781c3a36847f81398c3\", \"de...</td>\n",
       "    </tr>\n",
       "    <tr>\n",
       "      <th>4</th>\n",
       "      <td>49529</td>\n",
       "      <td>John Carter</td>\n",
       "      <td>[{\"id\": 28, \"name\": \"Action\"}, {\"id\": 12, \"nam...</td>\n",
       "      <td>John Carter is a war-weary, former military ca...</td>\n",
       "      <td>[{\"cast_id\": 5, \"character\": \"John Carter\", \"c...</td>\n",
       "      <td>[{\"credit_id\": \"52fe479ac3a36847f813eaa3\", \"de...</td>\n",
       "    </tr>\n",
       "    <tr>\n",
       "      <th>...</th>\n",
       "      <td>...</td>\n",
       "      <td>...</td>\n",
       "      <td>...</td>\n",
       "      <td>...</td>\n",
       "      <td>...</td>\n",
       "      <td>...</td>\n",
       "    </tr>\n",
       "    <tr>\n",
       "      <th>2495</th>\n",
       "      <td>68727</td>\n",
       "      <td>Trance</td>\n",
       "      <td>[{\"id\": 53, \"name\": \"Thriller\"}, {\"id\": 80, \"n...</td>\n",
       "      <td>A fine art auctioneer mixed up with a gang, jo...</td>\n",
       "      <td>[{\"cast_id\": 1, \"character\": \"Simon\", \"credit_...</td>\n",
       "      <td>[{\"credit_id\": \"52fe47a1c3a368484e0d195f\", \"de...</td>\n",
       "    </tr>\n",
       "    <tr>\n",
       "      <th>2496</th>\n",
       "      <td>12657</td>\n",
       "      <td>Soul Plane</td>\n",
       "      <td>[{\"id\": 10749, \"name\": \"Romance\"}, {\"id\": 35, ...</td>\n",
       "      <td>Following a ridiculously awful flight that lea...</td>\n",
       "      <td>[{\"cast_id\": 1, \"character\": \"Mr. Hunkee\", \"cr...</td>\n",
       "      <td>[{\"credit_id\": \"52fe45109251416c7504a7c3\", \"de...</td>\n",
       "    </tr>\n",
       "    <tr>\n",
       "      <th>2497</th>\n",
       "      <td>8265</td>\n",
       "      <td>Welcome to the Sticks</td>\n",
       "      <td>[{\"id\": 35, \"name\": \"Comedy\"}]</td>\n",
       "      <td>Although living a comfortable life in Salon-de...</td>\n",
       "      <td>[{\"cast_id\": 2, \"character\": \"Philippe Abrams\"...</td>\n",
       "      <td>[{\"credit_id\": \"52fe4499c3a36847f809f3ef\", \"de...</td>\n",
       "    </tr>\n",
       "    <tr>\n",
       "      <th>2498</th>\n",
       "      <td>12410</td>\n",
       "      <td>Good</td>\n",
       "      <td>[{\"id\": 18, \"name\": \"Drama\"}]</td>\n",
       "      <td>The rise of national socialism in Germany shou...</td>\n",
       "      <td>[{\"cast_id\": 2, \"character\": \"Halder\", \"credit...</td>\n",
       "      <td>[{\"credit_id\": \"52fe44dd9251416c75043a39\", \"de...</td>\n",
       "    </tr>\n",
       "    <tr>\n",
       "      <th>2499</th>\n",
       "      <td>34647</td>\n",
       "      <td>Enter the Void</td>\n",
       "      <td>[{\"id\": 14, \"name\": \"Fantasy\"}, {\"id\": 18, \"na...</td>\n",
       "      <td>This psychedelic tour of life after death is s...</td>\n",
       "      <td>[{\"cast_id\": 3, \"character\": \"Oscar\", \"credit_...</td>\n",
       "      <td>[{\"credit_id\": \"52fe45719251416c910327c1\", \"de...</td>\n",
       "    </tr>\n",
       "  </tbody>\n",
       "</table>\n",
       "<p>2500 rows × 6 columns</p>\n",
       "</div>"
      ],
      "text/plain": [
       "          id                                   title_x  \\\n",
       "0      19995                                    Avatar   \n",
       "1        285  Pirates of the Caribbean: At World's End   \n",
       "2     206647                                   Spectre   \n",
       "3      49026                     The Dark Knight Rises   \n",
       "4      49529                               John Carter   \n",
       "...      ...                                       ...   \n",
       "2495   68727                                    Trance   \n",
       "2496   12657                                Soul Plane   \n",
       "2497    8265                     Welcome to the Sticks   \n",
       "2498   12410                                      Good   \n",
       "2499   34647                            Enter the Void   \n",
       "\n",
       "                                                 genres  \\\n",
       "0     [{\"id\": 28, \"name\": \"Action\"}, {\"id\": 12, \"nam...   \n",
       "1     [{\"id\": 12, \"name\": \"Adventure\"}, {\"id\": 14, \"...   \n",
       "2     [{\"id\": 28, \"name\": \"Action\"}, {\"id\": 12, \"nam...   \n",
       "3     [{\"id\": 28, \"name\": \"Action\"}, {\"id\": 80, \"nam...   \n",
       "4     [{\"id\": 28, \"name\": \"Action\"}, {\"id\": 12, \"nam...   \n",
       "...                                                 ...   \n",
       "2495  [{\"id\": 53, \"name\": \"Thriller\"}, {\"id\": 80, \"n...   \n",
       "2496  [{\"id\": 10749, \"name\": \"Romance\"}, {\"id\": 35, ...   \n",
       "2497                     [{\"id\": 35, \"name\": \"Comedy\"}]   \n",
       "2498                      [{\"id\": 18, \"name\": \"Drama\"}]   \n",
       "2499  [{\"id\": 14, \"name\": \"Fantasy\"}, {\"id\": 18, \"na...   \n",
       "\n",
       "                                               overview  \\\n",
       "0     In the 22nd century, a paraplegic Marine is di...   \n",
       "1     Captain Barbossa, long believed to be dead, ha...   \n",
       "2     A cryptic message from Bond’s past sends him o...   \n",
       "3     Following the death of District Attorney Harve...   \n",
       "4     John Carter is a war-weary, former military ca...   \n",
       "...                                                 ...   \n",
       "2495  A fine art auctioneer mixed up with a gang, jo...   \n",
       "2496  Following a ridiculously awful flight that lea...   \n",
       "2497  Although living a comfortable life in Salon-de...   \n",
       "2498  The rise of national socialism in Germany shou...   \n",
       "2499  This psychedelic tour of life after death is s...   \n",
       "\n",
       "                                                   cast  \\\n",
       "0     [{\"cast_id\": 242, \"character\": \"Jake Sully\", \"...   \n",
       "1     [{\"cast_id\": 4, \"character\": \"Captain Jack Spa...   \n",
       "2     [{\"cast_id\": 1, \"character\": \"James Bond\", \"cr...   \n",
       "3     [{\"cast_id\": 2, \"character\": \"Bruce Wayne / Ba...   \n",
       "4     [{\"cast_id\": 5, \"character\": \"John Carter\", \"c...   \n",
       "...                                                 ...   \n",
       "2495  [{\"cast_id\": 1, \"character\": \"Simon\", \"credit_...   \n",
       "2496  [{\"cast_id\": 1, \"character\": \"Mr. Hunkee\", \"cr...   \n",
       "2497  [{\"cast_id\": 2, \"character\": \"Philippe Abrams\"...   \n",
       "2498  [{\"cast_id\": 2, \"character\": \"Halder\", \"credit...   \n",
       "2499  [{\"cast_id\": 3, \"character\": \"Oscar\", \"credit_...   \n",
       "\n",
       "                                                   crew  \n",
       "0     [{\"credit_id\": \"52fe48009251416c750aca23\", \"de...  \n",
       "1     [{\"credit_id\": \"52fe4232c3a36847f800b579\", \"de...  \n",
       "2     [{\"credit_id\": \"54805967c3a36829b5002c41\", \"de...  \n",
       "3     [{\"credit_id\": \"52fe4781c3a36847f81398c3\", \"de...  \n",
       "4     [{\"credit_id\": \"52fe479ac3a36847f813eaa3\", \"de...  \n",
       "...                                                 ...  \n",
       "2495  [{\"credit_id\": \"52fe47a1c3a368484e0d195f\", \"de...  \n",
       "2496  [{\"credit_id\": \"52fe45109251416c7504a7c3\", \"de...  \n",
       "2497  [{\"credit_id\": \"52fe4499c3a36847f809f3ef\", \"de...  \n",
       "2498  [{\"credit_id\": \"52fe44dd9251416c75043a39\", \"de...  \n",
       "2499  [{\"credit_id\": \"52fe45719251416c910327c1\", \"de...  \n",
       "\n",
       "[2500 rows x 6 columns]"
      ]
     },
     "execution_count": 5,
     "metadata": {},
     "output_type": "execute_result"
    }
   ],
   "source": [
    "# analysing the data\n",
    "''' \n",
    "Observations:\n",
    "1. The overview and title columns contain simple string values, which makes them straightforward to handle.\n",
    "2. the genres, cast, and crew columns follow a similar structure, as they consist of lists of dictionaries (approach by taking top 3 cast members)\n",
    "'''\n",
    "df"
   ]
  },
  {
   "cell_type": "code",
   "execution_count": 6,
   "metadata": {},
   "outputs": [
    {
     "name": "stdout",
     "output_type": "stream",
     "text": [
      "[{\"id\": 28, \"name\": \"Action\"}, {\"id\": 12, \"name\": \"Adventure\"}, {\"id\": 14, \"name\": \"Fantasy\"}, {\"id\": 878, \"name\": \"Science Fiction\"}]\n",
      "Action Adventure Fantasy Science Fiction\n",
      "Sam Worthington Zoe Saldana Sigourney Weaver\n",
      "James Cameron Jon Landau\n"
     ]
    }
   ],
   "source": [
    "# genres\n",
    "print(df.genres[0])\n",
    "print(' '.join([i['name'] for i in eval(df.genres[0])]))\n",
    "# taking top 3 cast\n",
    "print(' '.join([i['name'] for i in eval(df.cast[0])[:3]]))\n",
    "# taking crew (director & producer)\n",
    "print(' '.join(list(set([i['name'] for i in eval(df.crew[0]) if i['job']=='Director' or i['job']=='Producer']))))"
   ]
  },
  {
   "cell_type": "code",
   "execution_count": 7,
   "metadata": {},
   "outputs": [
    {
     "name": "stdout",
     "output_type": "stream",
     "text": [
      "2500\n"
     ]
    },
    {
     "data": {
      "text/plain": [
       "'In the 22nd century, a paraplegic Marine is dispatched to the moon Pandora on a unique mission, but becomes torn between following orders and protecting an alien civilization. Action Adventure Fantasy Science Fiction Sam Worthington Zoe Saldana Sigourney Weaver Stephen Lang Michelle Rodriguez James Cameron Jon Landau'"
      ]
     },
     "execution_count": 7,
     "metadata": {},
     "output_type": "execute_result"
    }
   ],
   "source": [
    "\n",
    "# functions to generate corpus\n",
    "def generate_corpus(overview, genre, cast, crew):\n",
    "    corpus = \"\"\n",
    "    genre = ' '.join([i['name'] for i in eval(genre)])\n",
    "    cast = ' '.join([i['name'] for i in eval(cast)[:5]])\n",
    "    crew = ' '.join(list(set([i['name'] for i in eval(crew) if i['job']=='Director' or i['job']=='Producer'])))\n",
    "    corpus += overview+\" \"+genre+\" \"+cast+\" \"+crew\n",
    "    return corpus\n",
    "\n",
    "corpus = []\n",
    "for i in range(len(df)):\n",
    "    corpus.append(generate_corpus(df.iloc[i].overview, df.iloc[i].genres, df.iloc[i].cast, df.iloc[i].crew))\n",
    "\n",
    "print(len(corpus))\n",
    "corpus[0]"
   ]
  },
  {
   "cell_type": "code",
   "execution_count": 8,
   "metadata": {},
   "outputs": [
    {
     "data": {
      "text/html": [
       "<div>\n",
       "<style scoped>\n",
       "    .dataframe tbody tr th:only-of-type {\n",
       "        vertical-align: middle;\n",
       "    }\n",
       "\n",
       "    .dataframe tbody tr th {\n",
       "        vertical-align: top;\n",
       "    }\n",
       "\n",
       "    .dataframe thead th {\n",
       "        text-align: right;\n",
       "    }\n",
       "</style>\n",
       "<table border=\"1\" class=\"dataframe\">\n",
       "  <thead>\n",
       "    <tr style=\"text-align: right;\">\n",
       "      <th></th>\n",
       "      <th>id</th>\n",
       "      <th>title</th>\n",
       "      <th>corpus</th>\n",
       "    </tr>\n",
       "  </thead>\n",
       "  <tbody>\n",
       "    <tr>\n",
       "      <th>0</th>\n",
       "      <td>19995</td>\n",
       "      <td>Avatar</td>\n",
       "      <td>In the 22nd century, a paraplegic Marine is di...</td>\n",
       "    </tr>\n",
       "    <tr>\n",
       "      <th>1</th>\n",
       "      <td>285</td>\n",
       "      <td>Pirates of the Caribbean: At World's End</td>\n",
       "      <td>Captain Barbossa, long believed to be dead, ha...</td>\n",
       "    </tr>\n",
       "    <tr>\n",
       "      <th>2</th>\n",
       "      <td>206647</td>\n",
       "      <td>Spectre</td>\n",
       "      <td>A cryptic message from Bond’s past sends him o...</td>\n",
       "    </tr>\n",
       "    <tr>\n",
       "      <th>3</th>\n",
       "      <td>49026</td>\n",
       "      <td>The Dark Knight Rises</td>\n",
       "      <td>Following the death of District Attorney Harve...</td>\n",
       "    </tr>\n",
       "    <tr>\n",
       "      <th>4</th>\n",
       "      <td>49529</td>\n",
       "      <td>John Carter</td>\n",
       "      <td>John Carter is a war-weary, former military ca...</td>\n",
       "    </tr>\n",
       "    <tr>\n",
       "      <th>...</th>\n",
       "      <td>...</td>\n",
       "      <td>...</td>\n",
       "      <td>...</td>\n",
       "    </tr>\n",
       "    <tr>\n",
       "      <th>2495</th>\n",
       "      <td>68727</td>\n",
       "      <td>Trance</td>\n",
       "      <td>A fine art auctioneer mixed up with a gang, jo...</td>\n",
       "    </tr>\n",
       "    <tr>\n",
       "      <th>2496</th>\n",
       "      <td>12657</td>\n",
       "      <td>Soul Plane</td>\n",
       "      <td>Following a ridiculously awful flight that lea...</td>\n",
       "    </tr>\n",
       "    <tr>\n",
       "      <th>2497</th>\n",
       "      <td>8265</td>\n",
       "      <td>Welcome to the Sticks</td>\n",
       "      <td>Although living a comfortable life in Salon-de...</td>\n",
       "    </tr>\n",
       "    <tr>\n",
       "      <th>2498</th>\n",
       "      <td>12410</td>\n",
       "      <td>Good</td>\n",
       "      <td>The rise of national socialism in Germany shou...</td>\n",
       "    </tr>\n",
       "    <tr>\n",
       "      <th>2499</th>\n",
       "      <td>34647</td>\n",
       "      <td>Enter the Void</td>\n",
       "      <td>This psychedelic tour of life after death is s...</td>\n",
       "    </tr>\n",
       "  </tbody>\n",
       "</table>\n",
       "<p>2500 rows × 3 columns</p>\n",
       "</div>"
      ],
      "text/plain": [
       "          id                                     title  \\\n",
       "0      19995                                    Avatar   \n",
       "1        285  Pirates of the Caribbean: At World's End   \n",
       "2     206647                                   Spectre   \n",
       "3      49026                     The Dark Knight Rises   \n",
       "4      49529                               John Carter   \n",
       "...      ...                                       ...   \n",
       "2495   68727                                    Trance   \n",
       "2496   12657                                Soul Plane   \n",
       "2497    8265                     Welcome to the Sticks   \n",
       "2498   12410                                      Good   \n",
       "2499   34647                            Enter the Void   \n",
       "\n",
       "                                                 corpus  \n",
       "0     In the 22nd century, a paraplegic Marine is di...  \n",
       "1     Captain Barbossa, long believed to be dead, ha...  \n",
       "2     A cryptic message from Bond’s past sends him o...  \n",
       "3     Following the death of District Attorney Harve...  \n",
       "4     John Carter is a war-weary, former military ca...  \n",
       "...                                                 ...  \n",
       "2495  A fine art auctioneer mixed up with a gang, jo...  \n",
       "2496  Following a ridiculously awful flight that lea...  \n",
       "2497  Although living a comfortable life in Salon-de...  \n",
       "2498  The rise of national socialism in Germany shou...  \n",
       "2499  This psychedelic tour of life after death is s...  \n",
       "\n",
       "[2500 rows x 3 columns]"
      ]
     },
     "execution_count": 8,
     "metadata": {},
     "output_type": "execute_result"
    }
   ],
   "source": [
    "# rename the column\n",
    "df.rename(columns = {'title_x':'title'}, inplace = True)\n",
    "# drop old columns\n",
    "df.drop(columns = ['genres', 'overview', 'cast', 'crew'], inplace = True)\n",
    "# add corpus\n",
    "df['corpus'] = corpus\n",
    "df"
   ]
  },
  {
   "cell_type": "code",
   "execution_count": 9,
   "metadata": {},
   "outputs": [
    {
     "name": "stdout",
     "output_type": "stream",
     "text": [
      "(2500, 3)\n",
      "(2500, 20406)\n"
     ]
    }
   ],
   "source": [
    "# Text Representation and text similarity\n",
    "''' \n",
    "convert textual information into a mathematical form by representing them as vectors and then decide the method for comparing similarities or differences\n",
    "'''\n",
    "''' \n",
    "utilizing Bag of Words (BoW)\n",
    "utilizing TF-IDF for finding relative importance of words in document in order to reduce the size of the array by converting similar words as one ex eat, eating, eats as eat generating a feature matrix\n",
    "'''\n",
    "# using the cosine similarity for quantifying the similarity between vector representations\n",
    "\n",
    "from sklearn.feature_extraction.text import TfidfVectorizer\n",
    "\n",
    "# initialize object and remove stopwords\n",
    "tfidf = TfidfVectorizer(stop_words = 'english')\n",
    "tfidf_matrix = tfidf.fit_transform(df['corpus'])\n",
    "\n",
    "# compare shapes\n",
    "print(df.shape)\n",
    "print(tfidf_matrix.shape)"
   ]
  },
  {
   "cell_type": "code",
   "execution_count": 10,
   "metadata": {},
   "outputs": [
    {
     "name": "stdout",
     "output_type": "stream",
     "text": [
      "(2500, 2500)\n",
      "2500.0\n"
     ]
    }
   ],
   "source": [
    "# generating cosine-similarity matrix via linear kernel\n",
    "from sklearn.metrics.pairwise import linear_kernel\n",
    "\n",
    "# compute the similarity matrix\n",
    "cos_mat = linear_kernel(tfidf_matrix, tfidf_matrix)\n",
    "print(cos_mat.shape)\n",
    "\n",
    "''' \n",
    "The diagonal elements of the matrix should be 1 since each movie is being compared to itself. To verify this, if we sum up all the diagonal elements of the matrix, it should yield a value of 4800.\n",
    "'''\n",
    "diag = 0\n",
    "for i in range(len(cos_mat)):\n",
    "    diag += cos_mat[i][i]\n",
    "print(diag)"
   ]
  },
  {
   "cell_type": "code",
   "execution_count": 11,
   "metadata": {},
   "outputs": [
    {
     "name": "stdout",
     "output_type": "stream",
     "text": [
      "['The Dark Knight Rises', 'Batman Begins', 'Batman Returns']\n",
      "['Mission: Impossible III', 'Mission: Impossible II', 'Mission: Impossible - Ghost Protocol']\n"
     ]
    }
   ],
   "source": [
    "''' \n",
    "When the user provides a movie name, the model will locate the corresponding index of the movie in our DataFrame. We can then use this index to retrieve the same index from the similarity matrix. As the DataFrame and the cosine matrix are aligned, this step yields an array containing the cosine similarity scores of that movie with all other movies in the database.\n",
    "\n",
    "However, the array is not sorted in any particular order, and we want to showcase the most similar movies. To achieve this, we need to sort the array in descending order. The first element will always correspond to the movie itself, with a similarity score of 1, followed by the other movies in descending order of similarity. Here lies a challenge: Sorting the array will disrupt the original order, making it difficult to fetch the movie titles from the database.\n",
    "\n",
    "To overcome this, we can store the movie index and similarity score as tuples. Then, we can perform the sorting based on the score alone while keeping the index intact. Subsequently, we can retrieve the movie details using the index from the tuple, ensuring we maintain the correct movie-title association. This approach allows us to obtain the desired similarity rankings while preserving the necessary information for fetching movie details. We can also pass a parameter n for slicing i.e. to fetch top n similar movies.\n",
    "'''\n",
    "def get_rec(movie, n):\n",
    "    # get index from dataframe\n",
    "    index = df[df['title'] == movie].index[0]\n",
    "    # sort top n similar movies\n",
    "    sim_movies = sorted(list(enumerate(cos_mat[index])), reverse=True, key=lambda x: x[1])\n",
    "    # extracting names form dataframe and return the movie names\n",
    "    rec = []\n",
    "    for i in sim_movies[1: n+1]:\n",
    "        rec.append(df.iloc[i[0]].title)\n",
    "    return rec\n",
    "\n",
    "# testing the function\n",
    "print(get_rec(\"The Dark Knight\", 3))\n",
    "print(get_rec(\"Mission: Impossible\", 3))"
   ]
  },
  {
   "cell_type": "code",
   "execution_count": 12,
   "metadata": {},
   "outputs": [
    {
     "data": {
      "text/plain": [
       "['Insomnia', 'Man of Steel', 'Batman Begins', 'Interstellar']"
      ]
     },
     "execution_count": 12,
     "metadata": {},
     "output_type": "execute_result"
    }
   ],
   "source": [
    "''' \n",
    "overcomming the following limitation: if a movie name is not present in the DataFrame, or what if a user wants to get recommendations based on cast and crews?\n",
    "solution: Although the cast and crew details are not directly included in our DataFrame, we can still make use of them. Here’s where TF-IDF comes to the rescue. By applying TF-IDF transformation to the keywords or tags, we can convert them into vectors of the same length as our cosine matrix.\n",
    "'''\n",
    "from sklearn.metrics.pairwise import cosine_similarity\n",
    "def get_keywords_rec(keywords, n):\n",
    "    keywords = keywords.split()\n",
    "    keywords = \" \".join(keywords)\n",
    "    # transform the string to vector representation\n",
    "    key_tfidf = tfidf.transform([keywords])\n",
    "    # compute the cosine-similarity\n",
    "    result = cosine_similarity(key_tfidf, tfidf_matrix)\n",
    "    # sort the top n similar movies\n",
    "    sim_key_movies = sorted(list(enumerate(result[0])), reverse=True, key=lambda x: x[1])\n",
    "    # extract names from the dataframe and return the movie name\n",
    "    rec = []\n",
    "    for i in sim_key_movies[1: n+1]:\n",
    "        rec.append(df.iloc[i[0]].title)\n",
    "    return rec\n",
    "\n",
    "# testing\n",
    "get_keywords_rec(\"Christopher Nolan\", 4)"
   ]
  },
  {
   "cell_type": "code",
   "execution_count": 13,
   "metadata": {},
   "outputs": [
    {
     "data": {
      "text/plain": [
       "['../models/tfidf_mat.tf']"
      ]
     },
     "execution_count": 13,
     "metadata": {},
     "output_type": "execute_result"
    }
   ],
   "source": [
    "# utilizing the similarity matrix and DataFrame to save it as binary files using joblib\n",
    "import joblib\n",
    "joblib.dump(df, '../models/movie_db.df')\n",
    "joblib.dump(cos_mat, '../models/cos_mat.mt')\n",
    "joblib.dump(tfidf, '../models/vectorizer.tf')\n",
    "joblib.dump(tfidf_matrix, '../models/tfidf_mat.tf')"
   ]
  }
 ],
 "metadata": {
  "kernelspec": {
   "display_name": "Python 3",
   "language": "python",
   "name": "python3"
  },
  "language_info": {
   "codemirror_mode": {
    "name": "ipython",
    "version": 3
   },
   "file_extension": ".py",
   "mimetype": "text/x-python",
   "name": "python",
   "nbconvert_exporter": "python",
   "pygments_lexer": "ipython3",
   "version": "3.9.13"
  },
  "orig_nbformat": 4
 },
 "nbformat": 4,
 "nbformat_minor": 2
}
